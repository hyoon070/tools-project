{
  "metadata": {
    "kernelspec": {
      "name": "python",
      "display_name": "Python (Pyodide)",
      "language": "python"
    },
    "language_info": {
      "codemirror_mode": {
        "name": "python",
        "version": 3
      },
      "file_extension": ".py",
      "mimetype": "text/x-python",
      "name": "python",
      "nbconvert_exporter": "python",
      "pygments_lexer": "ipython3",
      "version": "3.8"
    }
  },
  "nbformat_minor": 5,
  "nbformat": 4,
  "cells": [
    {
      "id": "6bd3bc73",
      "cell_type": "markdown",
      "source": "# Data Science Tools and Ecosystem",
      "metadata": {}
    },
    {
      "id": "14244a9c",
      "cell_type": "markdown",
      "source": "This notebook illustrates data science tools and ecostystem",
      "metadata": {}
    },
    {
      "id": "5752a072",
      "cell_type": "markdown",
      "source": "**Objectives:**\n\n* List some of the data science languages\n* List the popular libraries in data science\n* List some of the Data Science Environments",
      "metadata": {}
    },
    {
      "id": "cc3cc2d3",
      "cell_type": "markdown",
      "source": "Some of data science languages are:\n\n1. Python\n2. R\n3. Julia\n4. Scala\n5. Java\n6. Javascript",
      "metadata": {}
    },
    {
      "id": "309718fb",
      "cell_type": "markdown",
      "source": "Some of the commonly used libraries used by Data Scientists include:\n\n1. NumPy\n2. Pandas\n3. MatPlotLib\n4. SciPy\n5. Seaborn\n6. Scikit-Learn\n7. TensorFlow\n8. Pytorch",
      "metadata": {}
    },
    {
      "id": "639dd076",
      "cell_type": "markdown",
      "source": "| Data Science Tools |\n| ------------------ |\n| Jupyter Notebook  |\n| R Studio  |\n| Visual Studio Code  |",
      "metadata": {}
    },
    {
      "id": "ce386bdb",
      "cell_type": "markdown",
      "source": "### Below are a few examples of evaluating arithmetic expressions in Python",
      "metadata": {}
    },
    {
      "id": "0cf86d38",
      "cell_type": "code",
      "source": "# we multiplied 3 by 4 and then added 5 to it\n(3*4)+5",
      "metadata": {},
      "outputs": [
        {
          "data": {
            "text/plain": [
              "17"
            ]
          },
          "execution_count": 2,
          "metadata": {},
          "output_type": "execute_result"
        }
      ],
      "execution_count": 2
    },
    {
      "id": "2dd7f001",
      "cell_type": "code",
      "source": "#  These lines of code will convert 200 minutes to hours by diving by 60\nmins = 200\nmins / 60",
      "metadata": {
        "trusted": true
      },
      "outputs": [
        {
          "execution_count": 2,
          "output_type": "execute_result",
          "data": {
            "text/plain": "3.3333333333333335"
          },
          "metadata": {}
        }
      ],
      "execution_count": 2
    },
    {
      "id": "a49a5141",
      "cell_type": "markdown",
      "source": "## Author\nHaya Al Qahtany",
      "metadata": {}
    }
  ]
}